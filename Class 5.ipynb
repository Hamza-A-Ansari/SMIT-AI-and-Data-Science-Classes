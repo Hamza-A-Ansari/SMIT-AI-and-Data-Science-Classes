{
 "cells": [
  {
   "cell_type": "markdown",
   "id": "628dde54",
   "metadata": {},
   "source": [
    "# Nested list, Tuple, Set & Dictionary"
   ]
  },
  {
   "cell_type": "code",
   "execution_count": 2,
   "id": "c3d3284a",
   "metadata": {},
   "outputs": [
    {
     "name": "stdout",
     "output_type": "stream",
     "text": [
      "Sami\n"
     ]
    }
   ],
   "source": [
    "# Nested list\n",
    "data = [[\"1\", \"Hamza\", \"AI\"],\n",
    "        [\"2\", \"Sami\", \"Numpy\"],\n",
    "        [\"3\", \"Noman\", \"Pandas\"]]\n",
    "print(data[1][1])"
   ]
  },
  {
   "cell_type": "code",
   "execution_count": 6,
   "id": "276c1410",
   "metadata": {},
   "outputs": [
    {
     "name": "stdout",
     "output_type": "stream",
     "text": [
      "Hamza\n",
      "('Hamza', 'Qasim')\n"
     ]
    }
   ],
   "source": [
    "#Tupple\n",
    "names = (\"Hamza\",\"Qasim\",\"Sami\")\n",
    "print(names[0])\n",
    "print(names[:2])"
   ]
  },
  {
   "cell_type": "code",
   "execution_count": 7,
   "id": "a856e34c",
   "metadata": {},
   "outputs": [
    {
     "data": {
      "text/plain": [
       "{'Asif', 'Hamza', 'Qasim', 'Sami'}"
      ]
     },
     "execution_count": 7,
     "metadata": {},
     "output_type": "execute_result"
    }
   ],
   "source": [
    "# Set\n",
    "names = {\"Hamza\", \"Qasim\", \"Sami\", \"Asif\", \"Hamza\", \"Qasim\"}\n",
    "names"
   ]
  },
  {
   "cell_type": "code",
   "execution_count": 9,
   "id": "cc022af4",
   "metadata": {},
   "outputs": [
    {
     "data": {
      "text/plain": [
       "{'a', 'b', 'c'}"
      ]
     },
     "execution_count": 9,
     "metadata": {},
     "output_type": "execute_result"
    }
   ],
   "source": [
    "set(['a','b','c','a','a'])"
   ]
  },
  {
   "cell_type": "code",
   "execution_count": 14,
   "id": "35b4f8aa",
   "metadata": {},
   "outputs": [
    {
     "data": {
      "text/plain": [
       "{'Name': 'Hamza',\n",
       " 'f_name': 'Shakeel',\n",
       " 'Course': 'AI',\n",
       " 'Timing': '9 pm to 12 pm'}"
      ]
     },
     "execution_count": 14,
     "metadata": {},
     "output_type": "execute_result"
    }
   ],
   "source": [
    "# Dictionary\n",
    "data = {\n",
    "    \"Name\":\"Hamza\",\n",
    "    \"f_name\":\"Shakeel\",\n",
    "    \"Course\":\"AI\",\n",
    "    \"Timing\":\"9 pm to 12 pm\"\n",
    "}\n",
    "data"
   ]
  },
  {
   "cell_type": "code",
   "execution_count": 17,
   "id": "ebbccdb5",
   "metadata": {},
   "outputs": [
    {
     "name": "stdout",
     "output_type": "stream",
     "text": [
      "Hamza\n",
      "AI\n"
     ]
    }
   ],
   "source": [
    "print(data[\"Name\"])\n",
    "print(data[\"Course\"])"
   ]
  },
  {
   "cell_type": "markdown",
   "id": "6b1ca25b",
   "metadata": {},
   "source": [
    "# Tupple Methods"
   ]
  },
  {
   "cell_type": "code",
   "execution_count": 19,
   "id": "ed1cd25e",
   "metadata": {},
   "outputs": [
    {
     "name": "stdout",
     "output_type": "stream",
     "text": [
      "('a', 'b', 'c', 'a')\n",
      "2\n",
      "2\n"
     ]
    }
   ],
   "source": [
    "names = ('a','b','c','a')\n",
    "print(names)\n",
    "print(names.count(\"a\"))\n",
    "print(names.index(\"c\"))"
   ]
  },
  {
   "cell_type": "code",
   "execution_count": 25,
   "id": "5fc16e8c",
   "metadata": {},
   "outputs": [
    {
     "name": "stdout",
     "output_type": "stream",
     "text": [
      "{'b', 'a', 'c'}\n",
      "{'b', 'a', 'c', 'f'}\n",
      "{'f', 'b'}\n",
      "{'a'}\n"
     ]
    }
   ],
   "source": [
    "a = {'a','b','c','a'}\n",
    "print(a)\n",
    "a.add(\"f\")\n",
    "print(a)\n",
    "b = a.difference(['a','c','d'])\n",
    "print(b)\n",
    "c = a.intersection(['a','d'])\n",
    "print(c)"
   ]
  },
  {
   "cell_type": "code",
   "execution_count": 32,
   "id": "46f8a23e",
   "metadata": {},
   "outputs": [
    {
     "name": "stdout",
     "output_type": "stream",
     "text": [
      "{'b', 'a', 'c'}\n",
      "b\n"
     ]
    }
   ],
   "source": [
    "a = {'a','b','c','a'}\n",
    "print(a)\n",
    "b = a.pop()\n",
    "print(b)"
   ]
  },
  {
   "cell_type": "code",
   "execution_count": 34,
   "id": "43dbd6fb",
   "metadata": {},
   "outputs": [
    {
     "name": "stdout",
     "output_type": "stream",
     "text": [
      "9 pm to 12 pm\n",
      "dict_keys(['Name', 'f_name', 'Course', 'Timing'])\n",
      "dict_values(['Hamza', 'Shakeel', 'AI', '9 pm to 12 pm'])\n",
      "dict_items([('Name', 'Hamza'), ('f_name', 'Shakeel'), ('Course', 'AI'), ('Timing', '9 pm to 12 pm')])\n"
     ]
    }
   ],
   "source": [
    "# Dictionary\n",
    "data = {\n",
    "    \"Name\":\"Hamza\",\n",
    "    \"f_name\":\"Shakeel\",\n",
    "    \"Course\":\"AI\",\n",
    "    \"Timing\":\"9 pm to 12 pm\"\n",
    "}\n",
    "print(data[\"Timing\"])\n",
    "print(data.keys())\n",
    "print(data.values())\n",
    "print(data.items())"
   ]
  },
  {
   "cell_type": "code",
   "execution_count": 38,
   "id": "91d0b784",
   "metadata": {},
   "outputs": [
    {
     "name": "stdout",
     "output_type": "stream",
     "text": [
      "{'Name': 'Hamza', 'f_name': 'Shakeel', 'Course': 'AI', 'Timing': '9 pm to 12 pm'}\n",
      "{'Name': 'Sami', 'f_name': 'Shakeel', 'Course': 'AI', 'Timing': '9 pm to 12 pm'}\n"
     ]
    }
   ],
   "source": [
    "data = {\n",
    "    \"Name\":\"Hamza\",\n",
    "    \"f_name\":\"Shakeel\",\n",
    "    \"Course\":\"AI\",\n",
    "    \"Timing\":\"9 pm to 12 pm\"\n",
    "}\n",
    "data1 = data.copy()\n",
    "data1[\"Name\"] = \"Sami\"\n",
    "print(data)\n",
    "print(data1)"
   ]
  },
  {
   "cell_type": "code",
   "execution_count": 41,
   "id": "01b58aa7",
   "metadata": {},
   "outputs": [
    {
     "data": {
      "text/plain": [
       "'Not Available'"
      ]
     },
     "execution_count": 41,
     "metadata": {},
     "output_type": "execute_result"
    }
   ],
   "source": [
    "data.get(\"Name\")\n",
    "data.get(\"address\", \"Not Available\")"
   ]
  },
  {
   "cell_type": "code",
   "execution_count": 42,
   "id": "3f9ab1c2",
   "metadata": {},
   "outputs": [
    {
     "name": "stdout",
     "output_type": "stream",
     "text": [
      "{'Name': 'Hamza', 'f_name': 'Shakeel', 'Course': 'AI', 'Timing': '9 pm to 12 pm'}\n"
     ]
    }
   ],
   "source": [
    "data = {}\n",
    "data[\"Name\"]=\"Hamza\"\n",
    "data[\"f_name\"]=\"Shakeel\"\n",
    "data[\"Course\"]=\"AI\"\n",
    "data[\"Timing\"]=\"9 pm to 12 pm\"\n",
    "print(data)"
   ]
  },
  {
   "cell_type": "code",
   "execution_count": null,
   "id": "7659187e",
   "metadata": {},
   "outputs": [],
   "source": [
    "\n"
   ]
  }
 ],
 "metadata": {
  "kernelspec": {
   "display_name": "Python 3 (ipykernel)",
   "language": "python",
   "name": "python3"
  },
  "language_info": {
   "codemirror_mode": {
    "name": "ipython",
    "version": 3
   },
   "file_extension": ".py",
   "mimetype": "text/x-python",
   "name": "python",
   "nbconvert_exporter": "python",
   "pygments_lexer": "ipython3",
   "version": "3.9.12"
  }
 },
 "nbformat": 4,
 "nbformat_minor": 5
}
