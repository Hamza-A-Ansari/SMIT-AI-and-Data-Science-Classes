{
 "cells": [
  {
   "cell_type": "markdown",
   "id": "ef0a454c",
   "metadata": {},
   "source": [
    "- sami\n",
    "- hamza "
   ]
  },
  {
   "cell_type": "markdown",
   "id": "8d378343",
   "metadata": {},
   "source": [
    "\"`$ git clone hamza`\""
   ]
  },
  {
   "cell_type": "code",
   "execution_count": 3,
   "id": "a398ecf9",
   "metadata": {},
   "outputs": [],
   "source": [
    "name = \"SAM\"\n",
    "age = 25\n",
    "weight = 60\n",
    "LB = True"
   ]
  },
  {
   "cell_type": "code",
   "execution_count": 4,
   "id": "76196c99",
   "metadata": {},
   "outputs": [
    {
     "data": {
      "text/plain": [
       "bool"
      ]
     },
     "execution_count": 4,
     "metadata": {},
     "output_type": "execute_result"
    }
   ],
   "source": [
    "type(LB)"
   ]
  },
  {
   "cell_type": "code",
   "execution_count": 6,
   "id": "5009e1fe",
   "metadata": {},
   "outputs": [
    {
     "data": {
      "text/plain": [
       "1894492258544"
      ]
     },
     "execution_count": 6,
     "metadata": {},
     "output_type": "execute_result"
    }
   ],
   "source": [
    "id(name)"
   ]
  },
  {
   "cell_type": "code",
   "execution_count": 9,
   "id": "b5e58f2d",
   "metadata": {},
   "outputs": [
    {
     "name": "stdout",
     "output_type": "stream",
     "text": [
      "Help on built-in function count:\n",
      "\n",
      "count(...) method of builtins.str instance\n",
      "    S.count(sub[, start[, end]]) -> int\n",
      "    \n",
      "    Return the number of non-overlapping occurrences of substring sub in\n",
      "    string S[start:end].  Optional arguments start and end are\n",
      "    interpreted as in slice notation.\n",
      "\n"
     ]
    }
   ],
   "source": [
    "help(name.count)"
   ]
  },
  {
   "cell_type": "code",
   "execution_count": 11,
   "id": "5725f95b",
   "metadata": {},
   "outputs": [],
   "source": [
    "?name.count"
   ]
  },
  {
   "cell_type": "code",
   "execution_count": 12,
   "id": "d4672646",
   "metadata": {},
   "outputs": [],
   "source": [
    "name.count?"
   ]
  },
  {
   "cell_type": "code",
   "execution_count": 13,
   "id": "71d99491",
   "metadata": {},
   "outputs": [],
   "source": [
    "name.count??"
   ]
  },
  {
   "cell_type": "code",
   "execution_count": 14,
   "id": "7e0f6a9a",
   "metadata": {},
   "outputs": [],
   "source": [
    "??name.count"
   ]
  },
  {
   "cell_type": "code",
   "execution_count": 18,
   "id": "14af7fc2",
   "metadata": {},
   "outputs": [
    {
     "data": {
      "text/plain": [
       "'Hamza Ansari'"
      ]
     },
     "execution_count": 18,
     "metadata": {},
     "output_type": "execute_result"
    }
   ],
   "source": [
    "first_name = \"Hamza\"\n",
    "last_name = \"Ansari\"\n",
    "first_name + \" \" + last_name"
   ]
  },
  {
   "cell_type": "code",
   "execution_count": null,
   "id": "0cf8c4c7",
   "metadata": {},
   "outputs": [],
   "source": []
  }
 ],
 "metadata": {
  "kernelspec": {
   "display_name": "Python 3 (ipykernel)",
   "language": "python",
   "name": "python3"
  },
  "language_info": {
   "codemirror_mode": {
    "name": "ipython",
    "version": 3
   },
   "file_extension": ".py",
   "mimetype": "text/x-python",
   "name": "python",
   "nbconvert_exporter": "python",
   "pygments_lexer": "ipython3",
   "version": "3.9.12"
  }
 },
 "nbformat": 4,
 "nbformat_minor": 5
}
