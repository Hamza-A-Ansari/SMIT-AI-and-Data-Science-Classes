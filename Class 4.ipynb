{
 "cells": [
  {
   "cell_type": "markdown",
   "id": "a0790f01",
   "metadata": {},
   "source": [
    "# String methods and attributes"
   ]
  },
  {
   "cell_type": "code",
   "execution_count": 2,
   "id": "0602f373",
   "metadata": {},
   "outputs": [
    {
     "name": "stdout",
     "output_type": "stream",
     "text": [
      "<class 'str'>\n"
     ]
    }
   ],
   "source": [
    "name = \"Hamza Ansari\"\n",
    "print(type(name))"
   ]
  },
  {
   "cell_type": "code",
   "execution_count": 3,
   "id": "7681d6a3",
   "metadata": {},
   "outputs": [
    {
     "data": {
      "text/plain": [
       "['__add__',\n",
       " '__class__',\n",
       " '__contains__',\n",
       " '__delattr__',\n",
       " '__dir__',\n",
       " '__doc__',\n",
       " '__eq__',\n",
       " '__format__',\n",
       " '__ge__',\n",
       " '__getattribute__',\n",
       " '__getitem__',\n",
       " '__getnewargs__',\n",
       " '__gt__',\n",
       " '__hash__',\n",
       " '__init__',\n",
       " '__init_subclass__',\n",
       " '__iter__',\n",
       " '__le__',\n",
       " '__len__',\n",
       " '__lt__',\n",
       " '__mod__',\n",
       " '__mul__',\n",
       " '__ne__',\n",
       " '__new__',\n",
       " '__reduce__',\n",
       " '__reduce_ex__',\n",
       " '__repr__',\n",
       " '__rmod__',\n",
       " '__rmul__',\n",
       " '__setattr__',\n",
       " '__sizeof__',\n",
       " '__str__',\n",
       " '__subclasshook__',\n",
       " 'capitalize',\n",
       " 'casefold',\n",
       " 'center',\n",
       " 'count',\n",
       " 'encode',\n",
       " 'endswith',\n",
       " 'expandtabs',\n",
       " 'find',\n",
       " 'format',\n",
       " 'format_map',\n",
       " 'index',\n",
       " 'isalnum',\n",
       " 'isalpha',\n",
       " 'isascii',\n",
       " 'isdecimal',\n",
       " 'isdigit',\n",
       " 'isidentifier',\n",
       " 'islower',\n",
       " 'isnumeric',\n",
       " 'isprintable',\n",
       " 'isspace',\n",
       " 'istitle',\n",
       " 'isupper',\n",
       " 'join',\n",
       " 'ljust',\n",
       " 'lower',\n",
       " 'lstrip',\n",
       " 'maketrans',\n",
       " 'partition',\n",
       " 'removeprefix',\n",
       " 'removesuffix',\n",
       " 'replace',\n",
       " 'rfind',\n",
       " 'rindex',\n",
       " 'rjust',\n",
       " 'rpartition',\n",
       " 'rsplit',\n",
       " 'rstrip',\n",
       " 'split',\n",
       " 'splitlines',\n",
       " 'startswith',\n",
       " 'strip',\n",
       " 'swapcase',\n",
       " 'title',\n",
       " 'translate',\n",
       " 'upper',\n",
       " 'zfill']"
      ]
     },
     "execution_count": 3,
     "metadata": {},
     "output_type": "execute_result"
    }
   ],
   "source": [
    "dir(name)"
   ]
  },
  {
   "cell_type": "code",
   "execution_count": 4,
   "id": "091b3a3d",
   "metadata": {},
   "outputs": [
    {
     "data": {
      "text/plain": [
       "'Hamza ansari'"
      ]
     },
     "execution_count": 4,
     "metadata": {},
     "output_type": "execute_result"
    }
   ],
   "source": [
    "name = \"Hamza Ansari\"\n",
    "name.capitalize()"
   ]
  },
  {
   "cell_type": "code",
   "execution_count": 5,
   "id": "2458e2ba",
   "metadata": {},
   "outputs": [
    {
     "name": "stdout",
     "output_type": "stream",
     "text": [
      "Hamza ansari\n",
      "hamZa AnSari\n"
     ]
    }
   ],
   "source": [
    "name = \"hamZa AnSari\"  # In line operation\n",
    "print(name.capitalize())\n",
    "print(name)"
   ]
  },
  {
   "cell_type": "code",
   "execution_count": 6,
   "id": "45789e8b",
   "metadata": {},
   "outputs": [
    {
     "name": "stdout",
     "output_type": "stream",
     "text": [
      "hamza ansari\n",
      "Hamza Ansari\n"
     ]
    }
   ],
   "source": [
    "name = \"Hamza Ansari\" # In line operation\n",
    "print(name.casefold())\n",
    "print(name)      "
   ]
  },
  {
   "cell_type": "code",
   "execution_count": 11,
   "id": "0138195e",
   "metadata": {},
   "outputs": [
    {
     "name": "stdout",
     "output_type": "stream",
     "text": [
      "                   Hamza Ansari                   \n",
      "Hamza Ansari\n",
      "50\n"
     ]
    }
   ],
   "source": [
    "name = \"Hamza Ansari\" # In line operation\n",
    "print(name.center(50))\n",
    "print(name)      \n",
    "print(len(name.center(50)))"
   ]
  },
  {
   "cell_type": "code",
   "execution_count": 12,
   "id": "22a94201",
   "metadata": {},
   "outputs": [
    {
     "name": "stdout",
     "output_type": "stream",
     "text": [
      "3\n",
      "Hamza Ansari\n"
     ]
    }
   ],
   "source": [
    "name = \"Hamza Ansari\" # In line operation\n",
    "print(name.count(\"a\"))\n",
    "print(name)"
   ]
  },
  {
   "cell_type": "code",
   "execution_count": 13,
   "id": "086d9623",
   "metadata": {},
   "outputs": [
    {
     "name": "stdout",
     "output_type": "stream",
     "text": [
      "4\n",
      "Hamza Ansari\n"
     ]
    }
   ],
   "source": [
    "name = \"Hamza Ansari\" # In line operation\n",
    "print(name.casefold().count(\"a\"))\n",
    "print(name)"
   ]
  },
  {
   "cell_type": "code",
   "execution_count": null,
   "id": "4733c126",
   "metadata": {},
   "outputs": [],
   "source": [
    "name = \"Hamza Ansari\" # In line operation\n",
    "print(name) "
   ]
  },
  {
   "cell_type": "code",
   "execution_count": 14,
   "id": "a0a96ed5",
   "metadata": {},
   "outputs": [
    {
     "name": "stdout",
     "output_type": "stream",
     "text": [
      "True\n",
      "Hamza Ansari\n"
     ]
    }
   ],
   "source": [
    "name = \"Hamza Ansari\" # In line operation\n",
    "print(name.endswith(\"i\"))\n",
    "print(name)"
   ]
  },
  {
   "cell_type": "code",
   "execution_count": 15,
   "id": "9e7902f9",
   "metadata": {},
   "outputs": [
    {
     "name": "stdout",
     "output_type": "stream",
     "text": [
      "False\n",
      "Hamza Ansari\n"
     ]
    }
   ],
   "source": [
    "name = \"Hamza Ansari\" # In line operation\n",
    "print(name.startswith(\"i\"))\n",
    "print(name)"
   ]
  },
  {
   "cell_type": "code",
   "execution_count": 20,
   "id": "a6187cc7",
   "metadata": {},
   "outputs": [
    {
     "name": "stdout",
     "output_type": "stream",
     "text": [
      "Hamza       Ansari\n",
      "Hamza\tAnsari\n"
     ]
    }
   ],
   "source": [
    "name = \"Hamza\\tAnsari\" # In line operation\n",
    "print(name.expandtabs(tabsize = 12))\n",
    "print(name)"
   ]
  },
  {
   "cell_type": "code",
   "execution_count": 24,
   "id": "f96e1c53",
   "metadata": {},
   "outputs": [
    {
     "name": "stdout",
     "output_type": "stream",
     "text": [
      "6\n",
      "Hamza Ansari\n"
     ]
    }
   ],
   "source": [
    "name = \"Hamza Ansari\" # In line operation\n",
    "print(name.find(\"A\"))\n",
    "print(name)"
   ]
  },
  {
   "cell_type": "code",
   "execution_count": 25,
   "id": "15167180",
   "metadata": {},
   "outputs": [
    {
     "data": {
      "text/plain": [
       "False"
      ]
     },
     "execution_count": 25,
     "metadata": {},
     "output_type": "execute_result"
    }
   ],
   "source": [
    "name = \"Hamza Ansari\" # In line operation\n",
    "name.isalnum()        # Alpha-numeric "
   ]
  },
  {
   "cell_type": "markdown",
   "id": "e0075e45",
   "metadata": {},
   "source": [
    "# List"
   ]
  },
  {
   "cell_type": "code",
   "execution_count": 27,
   "id": "b59c64a7",
   "metadata": {},
   "outputs": [
    {
     "data": {
      "text/plain": [
       "'Sami'"
      ]
     },
     "execution_count": 27,
     "metadata": {},
     "output_type": "execute_result"
    }
   ],
   "source": [
    "names = [\"Qasim\", \"Hazma\", \"Sami\", \"Jazib\"]\n",
    "names[2]"
   ]
  },
  {
   "cell_type": "code",
   "execution_count": 28,
   "id": "26611cc0",
   "metadata": {},
   "outputs": [
    {
     "data": {
      "text/plain": [
       "['Qasim', 'Hazma', 'Sami', 'Jazib', 200, 300, 400, 500]"
      ]
     },
     "execution_count": 28,
     "metadata": {},
     "output_type": "execute_result"
    }
   ],
   "source": [
    "names = [\"Qasim\", \"Hazma\", \"Sami\", \"Jazib\", 200,300,400]\n",
    "names.append(500)\n",
    "names"
   ]
  },
  {
   "cell_type": "markdown",
   "id": "30e755e5",
   "metadata": {},
   "source": [
    "# For Slicing: list[start:end:step]\n"
   ]
  },
  {
   "cell_type": "code",
   "execution_count": 29,
   "id": "c8dbdc4a",
   "metadata": {},
   "outputs": [
    {
     "data": {
      "text/plain": [
       "['Qasim', 'Hazma', 'Sami']"
      ]
     },
     "execution_count": 29,
     "metadata": {},
     "output_type": "execute_result"
    }
   ],
   "source": [
    "names[0:3]"
   ]
  },
  {
   "cell_type": "code",
   "execution_count": 30,
   "id": "a6285000",
   "metadata": {},
   "outputs": [
    {
     "data": {
      "text/plain": [
       "['Qasim', 'Sami', 200]"
      ]
     },
     "execution_count": 30,
     "metadata": {},
     "output_type": "execute_result"
    }
   ],
   "source": [
    "names[0:6:2]"
   ]
  },
  {
   "cell_type": "code",
   "execution_count": 32,
   "id": "5321349b",
   "metadata": {},
   "outputs": [
    {
     "data": {
      "text/plain": [
       "['Jazib', 'Sami', 'Hazma']"
      ]
     },
     "execution_count": 32,
     "metadata": {},
     "output_type": "execute_result"
    }
   ],
   "source": [
    "names[3:0:-1]"
   ]
  },
  {
   "cell_type": "code",
   "execution_count": 33,
   "id": "f9d8a096",
   "metadata": {},
   "outputs": [
    {
     "data": {
      "text/plain": [
       "['Sami', 'Jazib', 200, 300, 400, 500]"
      ]
     },
     "execution_count": 33,
     "metadata": {},
     "output_type": "execute_result"
    }
   ],
   "source": [
    "names[2:]"
   ]
  },
  {
   "cell_type": "code",
   "execution_count": 34,
   "id": "8cff02db",
   "metadata": {},
   "outputs": [
    {
     "data": {
      "text/plain": [
       "['Qasim', 'Hazma', 'Sami', 'Jazib']"
      ]
     },
     "execution_count": 34,
     "metadata": {},
     "output_type": "execute_result"
    }
   ],
   "source": [
    "names[:4]"
   ]
  },
  {
   "cell_type": "code",
   "execution_count": 35,
   "id": "34aae427",
   "metadata": {},
   "outputs": [
    {
     "data": {
      "text/plain": [
       "[500, 400, 300, 200, 'Jazib', 'Sami', 'Hazma', 'Qasim']"
      ]
     },
     "execution_count": 35,
     "metadata": {},
     "output_type": "execute_result"
    }
   ],
   "source": [
    "# For reverse the list\n",
    "names[::-1]"
   ]
  },
  {
   "cell_type": "code",
   "execution_count": null,
   "id": "6a8f86fc",
   "metadata": {},
   "outputs": [],
   "source": []
  },
  {
   "cell_type": "code",
   "execution_count": null,
   "id": "6f319371",
   "metadata": {},
   "outputs": [],
   "source": []
  }
 ],
 "metadata": {
  "kernelspec": {
   "display_name": "Python 3 (ipykernel)",
   "language": "python",
   "name": "python3"
  },
  "language_info": {
   "codemirror_mode": {
    "name": "ipython",
    "version": 3
   },
   "file_extension": ".py",
   "mimetype": "text/x-python",
   "name": "python",
   "nbconvert_exporter": "python",
   "pygments_lexer": "ipython3",
   "version": "3.9.12"
  }
 },
 "nbformat": 4,
 "nbformat_minor": 5
}
