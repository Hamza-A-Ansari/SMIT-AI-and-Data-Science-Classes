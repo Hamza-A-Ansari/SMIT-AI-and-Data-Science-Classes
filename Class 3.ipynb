{
 "cells": [
  {
   "cell_type": "code",
   "execution_count": 1,
   "id": "a7f81942",
   "metadata": {},
   "outputs": [
    {
     "name": "stdout",
     "output_type": "stream",
     "text": [
      "Muhammad Qasim\n",
      "<class 'str'>\n",
      "2323793680048\n"
     ]
    }
   ],
   "source": [
    "teacher_name = \"Muhammad Qasim\"\n",
    "# teacher_name = 'Muhammad Qasim'\n",
    "# teacher_name = \"\"\"Muhammad Qasim\"\"\"\n",
    "# teacher_name = '''Muhammad Qasim'''\n",
    "print(teacher_name)\n",
    "print(type(teacher_name))\n",
    "print(id(teacher_name))"
   ]
  },
  {
   "cell_type": "code",
   "execution_count": 2,
   "id": "35c8f57a",
   "metadata": {},
   "outputs": [
    {
     "name": "stdout",
     "output_type": "stream",
     "text": [
      "15\n"
     ]
    }
   ],
   "source": [
    "num1 = 10\n",
    "num2 = 5\n",
    "print(num1 + num2)"
   ]
  },
  {
   "cell_type": "code",
   "execution_count": 3,
   "id": "2805eebe",
   "metadata": {},
   "outputs": [
    {
     "name": "stdout",
     "output_type": "stream",
     "text": [
      "15.2\n"
     ]
    }
   ],
   "source": [
    "num1 = 10.2\n",
    "num2 = 5\n",
    "print(num1 + num2)"
   ]
  },
  {
   "cell_type": "code",
   "execution_count": 4,
   "id": "18c68d53",
   "metadata": {},
   "outputs": [
    {
     "name": "stdout",
     "output_type": "stream",
     "text": [
      "2\n"
     ]
    }
   ],
   "source": [
    "# Floor division\n",
    "num1 = 14\n",
    "num2 = 5\n",
    "print(num1 // num2)"
   ]
  },
  {
   "cell_type": "code",
   "execution_count": 5,
   "id": "a95e6f1e",
   "metadata": {},
   "outputs": [
    {
     "name": "stdout",
     "output_type": "stream",
     "text": [
      "5\n",
      "8\n"
     ]
    }
   ],
   "source": [
    "a = 5\n",
    "print(a)\n",
    "a += 3\n",
    "print(a)"
   ]
  },
  {
   "cell_type": "markdown",
   "id": "f65b2b3f",
   "metadata": {},
   "source": [
    "# String Concatination\n",
    "### (String Formation)"
   ]
  },
  {
   "cell_type": "code",
   "execution_count": 7,
   "id": "71c3dc74",
   "metadata": {},
   "outputs": [
    {
     "name": "stdout",
     "output_type": "stream",
     "text": [
      "\n",
      "SAM  SAM    SAM\n",
      "SAM   SAM   SAM\n",
      "\n"
     ]
    }
   ],
   "source": [
    "var = \"\"\"\n",
    "SAM  SAM    SAM\n",
    "SAM   SAM   SAM\n",
    "\"\"\"\n",
    "print(var)"
   ]
  },
  {
   "cell_type": "code",
   "execution_count": 12,
   "id": "fa369f45",
   "metadata": {},
   "outputs": [
    {
     "name": "stdout",
     "output_type": "stream",
     "text": [
      "\n",
      "___________________________________________\n",
      "            Saylani Walfare Trust\n",
      "___________________________________________\n",
      "\n",
      " Artificial Intelligence and Data Science\n",
      " -----------------------------------------\n",
      "Name: Hamza Ahmed Ansari\n",
      "-----\n",
      "Father's Name: Shakeel Ahmed Ansari\n",
      "--------------\n",
      "Roll number: AI-40591\n",
      "------------\n",
      "Batch: 3\n",
      "------\n",
      "timings: 9 to 12\n",
      "--------\n",
      "Age: 22\n",
      "----\n",
      "\n"
     ]
    }
   ],
   "source": [
    "name = \"Hamza Ahmed Ansari\"\n",
    "f_name = \"Shakeel Ahmed Ansari\" \n",
    "r_no = \"AI-40591\"\n",
    "timing = \"9 to 12\"\n",
    "batch = 3\n",
    "age = 22\n",
    "\n",
    "student_card = f\"\"\"\n",
    "___________________________________________\n",
    "            Saylani Walfare Trust\n",
    "___________________________________________\n",
    "\n",
    " Artificial Intelligence and Data Science\n",
    " -----------------------------------------\n",
    "Name: {name}\n",
    "-----\n",
    "Father's Name: {f_name}\n",
    "--------------\n",
    "Roll number: {r_no}\n",
    "------------\n",
    "Batch: {batch}\n",
    "------\n",
    "timings: {timing}\n",
    "--------\n",
    "Age: {age}\n",
    "----\n",
    "\"\"\"\n",
    "print(student_card)"
   ]
  },
  {
   "cell_type": "code",
   "execution_count": 13,
   "id": "f8cd41fb",
   "metadata": {},
   "outputs": [
    {
     "data": {
      "text/plain": [
       "'Total Marks Obtained = 281'"
      ]
     },
     "execution_count": 13,
     "metadata": {},
     "output_type": "execute_result"
    }
   ],
   "source": [
    "s1 = 70\n",
    "s2 = 65\n",
    "s3 = 78\n",
    "s4 = 68\n",
    "f'''Total Marks Obtained = {s1 + s2 + s3 + s4}'''"
   ]
  },
  {
   "cell_type": "code",
   "execution_count": 14,
   "id": "20fdfb7d",
   "metadata": {},
   "outputs": [
    {
     "data": {
      "text/plain": [
       "False"
      ]
     },
     "execution_count": 14,
     "metadata": {},
     "output_type": "execute_result"
    }
   ],
   "source": [
    "a1 = \"Hamza\"\n",
    "a2 = \"Hamza Ansari\"\n",
    "a1 == a2"
   ]
  },
  {
   "cell_type": "code",
   "execution_count": 16,
   "id": "b22afc19",
   "metadata": {},
   "outputs": [
    {
     "data": {
      "text/plain": [
       "True"
      ]
     },
     "execution_count": 16,
     "metadata": {},
     "output_type": "execute_result"
    }
   ],
   "source": [
    "p1 = \"\"\"\n",
    "We are learning AI in Saylani\n",
    "\"\"\"\n",
    "\"Saylani\" in p1"
   ]
  },
  {
   "cell_type": "code",
   "execution_count": 17,
   "id": "224138a3",
   "metadata": {},
   "outputs": [
    {
     "data": {
      "text/plain": [
       "False"
      ]
     },
     "execution_count": 17,
     "metadata": {},
     "output_type": "execute_result"
    }
   ],
   "source": [
    "p1 = \"\"\"\n",
    "We are learning AI in Saylani\n",
    "\"\"\"\n",
    "\"Saylani\" not in p1"
   ]
  },
  {
   "cell_type": "code",
   "execution_count": 20,
   "id": "b974c4f0",
   "metadata": {},
   "outputs": [
    {
     "data": {
      "text/plain": [
       "True"
      ]
     },
     "execution_count": 20,
     "metadata": {},
     "output_type": "execute_result"
    }
   ],
   "source": [
    "b1 = \"Hamza\"\n",
    "b2 = \"Hamza\"\n",
    "b1 is b2"
   ]
  },
  {
   "cell_type": "code",
   "execution_count": null,
   "id": "4b842406",
   "metadata": {},
   "outputs": [],
   "source": []
  }
 ],
 "metadata": {
  "kernelspec": {
   "display_name": "Python 3 (ipykernel)",
   "language": "python",
   "name": "python3"
  },
  "language_info": {
   "codemirror_mode": {
    "name": "ipython",
    "version": 3
   },
   "file_extension": ".py",
   "mimetype": "text/x-python",
   "name": "python",
   "nbconvert_exporter": "python",
   "pygments_lexer": "ipython3",
   "version": "3.9.12"
  }
 },
 "nbformat": 4,
 "nbformat_minor": 5
}
